{
  "nbformat": 4,
  "nbformat_minor": 0,
  "metadata": {
    "colab": {
      "name": "Untitled0.ipynb",
      "provenance": [],
      "authorship_tag": "ABX9TyMkqKf/Vk1fqlsW3WbYfQKe",
      "include_colab_link": true
    },
    "kernelspec": {
      "name": "python3",
      "display_name": "Python 3"
    }
  },
  "cells": [
    {
      "cell_type": "markdown",
      "metadata": {
        "id": "view-in-github",
        "colab_type": "text"
      },
      "source": [
        "<a href=\"https://colab.research.google.com/github/Rafliananda/Pemrograman_python/blob/main/Tugas13.ipynb\" target=\"_parent\"><img src=\"https://colab.research.google.com/assets/colab-badge.svg\" alt=\"Open In Colab\"/></a>"
      ]
    },
    {
      "cell_type": "code",
      "metadata": {
        "id": "3v4adzNYuOVS"
      },
      "source": [
        "import numpy as np\r\n",
        "import matplotlib.pyplot as plt"
      ],
      "execution_count": 51,
      "outputs": []
    },
    {
      "cell_type": "code",
      "metadata": {
        "id": "XqkTug43uRsU"
      },
      "source": [
        "def cos(frek,tipe,ht,hr,d):\r\n",
        "  #frek = frekuensi (MHz)\r\n",
        "  #tipe = urban, suburban, open\r\n",
        "  #ht = tinggi tower (meter)\r\n",
        "  #hr = tinggi user (meter)\r\n",
        "  #d = jarak (meter)\r\n",
        "    if frek in range(150,1501):\r\n",
        "        Ca=69.55\r\n",
        "        Cb=26.16\r\n",
        "    elif frek in range(1501,2001):\r\n",
        "        Ca=46.3\r\n",
        "        Cb=33.9\r\n",
        "    \r\n",
        "    if tipe=='urban' :\r\n",
        "        Cm=0\r\n",
        "    elif tipe=='suburban' :\r\n",
        "        Cm= -2*((np.log10((frek/28)**2))-5.4)\r\n",
        "    elif tipe=='open' :\r\n",
        "        Cm= -4.78*(np.log10(frek))+18.33*(np.log10(frek))-40.94\r\n",
        "    else :\r\n",
        "        Cm='tipe salah'\r\n",
        "    \r\n",
        "    ahr = (1.1*np.log10(frek)-0.7)*hr-(1.56*np.log10(frek)-1.8)\r\n",
        "    Lp = Ca+(Cb*np.log10(frek))-(13.83*np.log(ht))-ahr+((44.9-6.55*np.log10(ht))*np.log10(d))-Cm\r\n",
        "    \r\n",
        "    return Lp"
      ],
      "execution_count": 261,
      "outputs": []
    },
    {
      "cell_type": "code",
      "metadata": {
        "id": "o71rSGYLxqBZ"
      },
      "source": [
        "f=1800 #MHz\r\n",
        "loc='urban'\r\n",
        "tower=80 #m\r\n",
        "user=1.5 #m\r\n",
        "dmin=200 #m\r\n",
        "dmax=700 #m\r\n",
        "N=200 #titik\r\n",
        "d=np.random.randint(dmin,dmax,N)"
      ],
      "execution_count": 262,
      "outputs": []
    },
    {
      "cell_type": "code",
      "metadata": {
        "colab": {
          "base_uri": "https://localhost:8080/"
        },
        "id": "8jwP-SLc2_ww",
        "outputId": "48ae3833-24a0-47ea-9602-6900e09a4e19"
      },
      "source": [
        "print(d)"
      ],
      "execution_count": 263,
      "outputs": [
        {
          "output_type": "stream",
          "text": [
            "[243 317 480 396 373 414 463 355 340 262 200 504 293 627 617 516 286 360\n",
            " 575 487 262 559 531 664 499 568 257 224 429 246 521 665 503 314 268 208\n",
            " 529 658 509 284 415 271 634 396 468 438 309 553 486 411 271 210 607 476\n",
            " 321 657 453 412 603 280 478 476 400 502 202 232 565 671 493 465 370 462\n",
            " 281 337 387 241 598 503 465 500 526 232 474 337 691 550 346 513 542 439\n",
            " 569 353 222 315 478 515 225 326 549 683 661 489 263 225 580 343 395 316\n",
            " 401 333 501 662 522 274 501 256 547 648 467 552 371 525 577 476 526 497\n",
            " 458 341 605 609 691 309 633 601 298 635 622 247 605 659 555 578 671 554\n",
            " 402 526 609 213 410 633 300 548 571 677 649 300 508 333 503 381 614 580\n",
            " 452 300 314 693 352 694 413 665 321 306 269 417 395 411 233 406 226 384\n",
            " 639 609 599 522 254 641 689 587 423 521 284 526 476 216 524 684 567 697\n",
            " 479 491]\n"
          ],
          "name": "stdout"
        }
      ]
    },
    {
      "cell_type": "code",
      "metadata": {
        "id": "S7RJeEwu0RqN"
      },
      "source": [
        "LpUrban=cos(f,loc,tower,user,d)"
      ],
      "execution_count": 264,
      "outputs": []
    },
    {
      "cell_type": "code",
      "metadata": {
        "colab": {
          "base_uri": "https://localhost:8080/"
        },
        "id": "16joBfbl4s1Y",
        "outputId": "5eef6386-5806-421b-b295-39910e4dd47c"
      },
      "source": [
        "print(LpUrban)"
      ],
      "execution_count": 265,
      "outputs": [
        {
          "output_type": "stream",
          "text": [
            "[172.38390337 176.12859342 181.97275265 179.26295647 178.42009529\n",
            " 179.88911456 181.4648163  177.72338111 177.11524764 173.44435845\n",
            " 169.64069205 182.66002249 175.0195957  185.73603802 185.5095663\n",
            " 182.99147866 174.67897923 177.92039464 184.51650088 182.17669346\n",
            " 173.44435845 184.11897926 183.3951234  186.54368103 182.51958027\n",
            " 184.34396388 173.17293892 171.23706683 180.39045706 172.55674281\n",
            " 183.12731614 186.56487928 182.63204584 175.99465037 173.76330575\n",
            " 170.19316433 183.34196773 186.41581717 182.79907828 174.58012804\n",
            " 179.92309826 173.9201115  185.89242926 179.26295647 181.61611999\n",
            " 180.68291541 175.76854219 183.96696802 182.14773921 179.78666874\n",
            " 173.9201115  170.32796189 185.2793939  181.85487549 176.30522567\n",
            " 186.39439323 181.15724431 179.8209002  185.18626141 174.3803199\n",
            " 181.91393737 181.85487549 179.40452789 182.60401352 169.78085477\n",
            " 171.7313715  184.26936756 186.69140322 182.34918016 181.52553294\n",
            " 178.30634309 181.43435956 174.43053827 176.99040572 178.93912065\n",
            " 172.26748753 185.06897316 182.63204584 181.52553294 182.54778096\n",
            " 183.26185621 171.7313715  181.79556493 176.99040572 187.10512569\n",
            " 183.89034279 177.36166041 182.90934294 183.68394734 180.71503911\n",
            " 184.36874179 177.64379763 171.11073201 176.03943972 181.91393737\n",
            " 182.96415327 171.29981187 176.5229462  183.86470814 186.94109196\n",
            " 186.47989418 182.23442403 173.49802037 171.29981187 184.63846041\n",
            " 177.23899284 179.22734017 176.0840871  179.43969953 176.82220984\n",
            " 182.5759253  186.50118857 183.15432715 174.07519091 182.5759253\n",
            " 173.11802175 183.81329845 186.20009722 181.58598899 183.94147257\n",
            " 178.34436265 183.2350508  184.56541147 181.85487549 183.26185621\n",
            " 182.46300896 181.31186977 177.15661694 185.23290462 185.32573025\n",
            " 187.10512569 175.76854219 185.87019368 185.13946324 175.2579472\n",
            " 185.91462979 185.62325729 172.61388787 185.23290462 186.43720858\n",
            " 184.01782092 184.58980323 186.69140322 183.99241742 179.47478358\n",
            " 183.26185621 185.32573025 170.52777003 179.75235389 185.87019368\n",
            " 175.35216988 183.83902675 184.41816723 186.81680082 186.22181849\n",
            " 175.35216988 182.77137672 176.82220984 182.63204584 178.71901871\n",
            " 185.44090863 184.63846041 181.12611449 175.35216988 175.99465037\n",
            " 187.14583739 177.60383665 187.1661492  179.85504867 186.56487928\n",
            " 176.30522567 175.63111439 173.81576852 179.99082068 179.22734017\n",
            " 179.78666874 171.79195756 179.61425242 171.36227866 178.82949958\n",
            " 186.0030837  185.32573025 185.09250907 183.15432715 173.00754089\n",
            " 186.04710322 187.06429599 184.807449   180.19205607 183.12731614\n",
            " 174.58012804 183.26185621 181.85487549 170.72478356 183.20819429\n",
            " 186.96170094 184.31914231 187.22690949 181.94337571 182.29191895]\n"
          ],
          "name": "stdout"
        }
      ]
    },
    {
      "cell_type": "code",
      "metadata": {
        "id": "cvxRryoM0pEA"
      },
      "source": [
        "d_sort=d[np.argsort(d)]\r\n",
        "Urban_sort=LpUrban[np.argsort(d)]"
      ],
      "execution_count": 266,
      "outputs": []
    },
    {
      "cell_type": "code",
      "metadata": {
        "id": "sYBQWMja1a9C"
      },
      "source": [
        "f=1800 #MHz\r\n",
        "loc='suburban'\r\n",
        "tower=80 #m\r\n",
        "user=1.5 #m\r\n",
        "dmin=200 #m\r\n",
        "dmax=700 #m\r\n",
        "N=200 #titik\r\n",
        "a=np.random.randint(dmin,dmax,N)"
      ],
      "execution_count": 267,
      "outputs": []
    },
    {
      "cell_type": "code",
      "metadata": {
        "colab": {
          "base_uri": "https://localhost:8080/"
        },
        "id": "L6sLXGUi3Ch8",
        "outputId": "b9418ccd-5abb-44b9-849b-2a9ef762f0fb"
      },
      "source": [
        "print(a)"
      ],
      "execution_count": 268,
      "outputs": [
        {
          "output_type": "stream",
          "text": [
            "[208 308 369 453 265 242 569 242 487 504 489 274 395 217 287 459 657 268\n",
            " 445 360 686 423 295 409 553 590 227 384 444 355 249 424 651 346 634 666\n",
            " 286 325 623 233 340 330 478 620 269 410 589 645 475 609 227 439 655 460\n",
            " 283 604 464 672 349 469 300 571 433 520 498 240 512 485 586 229 323 459\n",
            " 439 450 648 293 437 515 563 382 256 684 481 515 201 666 368 296 697 214\n",
            " 508 643 388 378 409 394 443 618 353 342 640 535 680 460 633 540 357 365\n",
            " 621 429 338 576 369 548 319 646 630 317 392 679 651 272 580 222 570 571\n",
            " 353 652 370 301 307 685 437 551 414 227 275 578 204 399 448 561 667 698\n",
            " 659 519 283 472 638 696 221 482 655 450 281 528 312 396 681 445 335 654\n",
            " 578 412 242 298 559 514 495 276 524 391 608 415 424 283 361 584 310 693\n",
            " 456 289 436 385 581 431 278 654 633 598 490 644 337 589 501 692 379 386\n",
            " 443 364]\n"
          ],
          "name": "stdout"
        }
      ]
    },
    {
      "cell_type": "code",
      "metadata": {
        "id": "PKEyOFOO1zr4"
      },
      "source": [
        "Lpsuburban=cos(f,loc,tower,user,a)"
      ],
      "execution_count": 269,
      "outputs": []
    },
    {
      "cell_type": "code",
      "metadata": {
        "colab": {
          "base_uri": "https://localhost:8080/"
        },
        "id": "2fZDIS5R4x7D",
        "outputId": "b281bfa4-a7c2-4b7e-9024-7f2aa195d771"
      },
      "source": [
        "print(Lpsuburban)"
      ],
      "execution_count": 270,
      "outputs": [
        {
          "output_type": "stream",
          "text": [
            "[166.62562223 172.15533963 174.70067854 177.58970221 170.0371927\n",
            " 168.75827361 180.80119968 168.75827361 178.60915136 179.09248038\n",
            " 178.66688192 170.50764881 175.65979807 167.22230502 171.1606038\n",
            " 177.77505011 182.82685113 170.19576365 177.33871583 174.35285253\n",
            " 183.43528657 176.62451397 171.54787871 176.15041315 180.39942592\n",
            " 181.31171455 167.85692755 175.26195747 177.30702575 174.155839\n",
            " 169.15994507 176.65777546 182.69761869 173.79411831 182.32488715\n",
            " 183.01850358 171.11143713 172.91212837 182.07834369 168.22441545\n",
            " 173.54770554 173.12718961 178.34639527 182.01034884 170.24822642\n",
            " 176.18481179 181.28781931 182.56718963 178.25770932 181.75818814\n",
            " 167.85692755 177.147497   182.78390525 177.8057057  170.96289898\n",
            " 181.64206022 177.92766523 183.14483839 173.91572687 178.07864457\n",
            " 171.78462777 180.85062513 176.95364664 179.53271113 178.92378091\n",
            " 168.6413747  179.31431548 178.55118322 181.21588943 167.98049183\n",
            " 172.82517601 177.77505011 177.147497   177.4961056  182.63255512\n",
            " 171.4520536  177.08317617 179.39661116 180.65187421 175.18839993\n",
            " 169.55047964 183.39415884 178.43452634 179.39661116 166.14340564\n",
            " 183.01850358 174.66245263 171.59554792 183.65936738 167.02620574\n",
            " 179.20383462 182.52344351 175.40793015 175.04012237 176.15041315\n",
            " 175.62409149 177.27526421 181.96483592 174.07625553 173.630323\n",
            " 182.45756855 179.93329465 183.31154137 177.8057057  182.30265157\n",
            " 180.06433036 174.23497538 174.54714854 182.03305028 176.82291496\n",
            " 173.46460065 180.9734353  174.70067854 180.27148464 172.6496443\n",
            " 182.58901184 182.23573345 172.56105131 175.55240565 183.29081107\n",
            " 182.69761869 170.40445247 181.0709183  167.54318991 180.82593408\n",
            " 180.85062513 174.07625553 182.71923993 174.73880099 171.83150381\n",
            " 172.10953069 183.41473772 177.08317617 180.34838877 176.32157245\n",
            " 167.85692755 170.55896485 181.02226113 166.35209446 175.8017261\n",
            " 177.43336056 180.6017452  183.03963822 183.67956271 182.86966647\n",
            " 179.50559614 170.96289898 178.16846148 182.41348013 183.63914306\n",
            " 167.47959505 178.46378126 182.78390525 177.4961056  170.86299616\n",
            " 179.74777237 172.33710005 175.69541436 183.33224121 177.33871583\n",
            " 173.33901672 182.76238311 181.02226113 176.25335809 168.75827361\n",
            " 171.6904051  180.55143715 179.36923265 178.83866743 170.61009462\n",
            " 179.64065218 175.51642546 181.73503902 176.35555615 176.65777546\n",
            " 170.96289898 174.39192672 181.16773131 172.24651301 183.57829529\n",
            " 177.68268101 171.25842529 177.05090528 175.2985927  181.095184\n",
            " 176.88843246 170.71180075 182.76238311 182.30265157 181.50143105\n",
            " 178.69565872 182.54533355 173.42286362 181.28781931 179.00838319\n",
            " 183.55795415 175.07733835 175.33513289 177.27526421 174.50850315]\n"
          ],
          "name": "stdout"
        }
      ]
    },
    {
      "cell_type": "code",
      "metadata": {
        "id": "kCN-wxLq2AGm"
      },
      "source": [
        "a_sort=a[np.argsort(a)]\r\n",
        "suburban_sort=Lpsuburban[np.argsort(a)]"
      ],
      "execution_count": 271,
      "outputs": []
    },
    {
      "cell_type": "code",
      "metadata": {
        "id": "CmgMgHsX2KEo"
      },
      "source": [
        "f=1800 #MHz\r\n",
        "loc='open'\r\n",
        "tower=80 #m\r\n",
        "user=1.5 #m\r\n",
        "dmin=200 #m\r\n",
        "dmax=700 #m\r\n",
        "N=200 #titik\r\n",
        "b=np.random.randint(dmin,dmax,N)"
      ],
      "execution_count": 272,
      "outputs": []
    },
    {
      "cell_type": "code",
      "metadata": {
        "colab": {
          "base_uri": "https://localhost:8080/"
        },
        "id": "R0n0IWq_4BLL",
        "outputId": "b924c6be-c82b-42a9-a667-caa29e9968c6"
      },
      "source": [
        "print(b)"
      ],
      "execution_count": 273,
      "outputs": [
        {
          "output_type": "stream",
          "text": [
            "[433 318 398 327 646 679 224 358 300 226 375 620 259 395 397 677 617 295\n",
            " 218 344 411 348 256 442 362 200 429 555 223 271 257 438 370 200 581 447\n",
            " 250 580 583 545 525 455 502 228 334 256 608 378 443 644 245 203 549 376\n",
            " 540 646 370 403 479 346 261 624 607 586 612 495 435 470 222 300 392 676\n",
            " 383 290 528 461 590 451 223 510 441 517 319 352 481 294 569 352 520 458\n",
            " 410 227 250 346 225 681 282 657 424 357 201 332 309 348 316 559 432 336\n",
            " 217 249 242 314 467 349 454 360 644 299 345 477 357 499 552 478 480 555\n",
            " 646 657 334 528 341 621 465 270 693 202 539 319 489 434 466 350 538 687\n",
            " 558 436 671 623 374 300 637 242 484 672 376 547 237 378 678 435 305 258\n",
            " 391 441 342 618 462 569 516 633 425 339 535 480 645 373 563 616 247 567\n",
            " 357 538 538 420 356 235 373 614 286 262 389 662 311 341 356 496 379 454\n",
            " 696 691]\n"
          ],
          "name": "stdout"
        }
      ]
    },
    {
      "cell_type": "code",
      "metadata": {
        "id": "XiNP_O9l2NgO"
      },
      "source": [
        "Lpopen=cos(f,loc,tower,user,b)"
      ],
      "execution_count": 274,
      "outputs": []
    },
    {
      "cell_type": "code",
      "metadata": {
        "colab": {
          "base_uri": "https://localhost:8080/"
        },
        "id": "mycz4YKD43uw",
        "outputId": "8bc14b44-468f-4854-81c1-2a0f66a5968d"
      },
      "source": [
        "print(Lpopen)"
      ],
      "execution_count": 275,
      "outputs": [
        {
          "output_type": "stream",
          "text": [
            "[177.3522463  173.00401711 176.16497759 173.39714693 182.98761151\n",
            " 183.68941073 168.06812439 174.67297713 172.18322743 168.19333621\n",
            " 175.3264805  182.4089485  170.11319266 176.05839773 176.12954049\n",
            " 183.64785838 182.34062386 171.94647837 167.6856691  174.11105839\n",
            " 176.6177263  174.27390688 169.9490793  177.64203055 174.82949249\n",
            " 166.4717496  177.22151462 180.84887848 168.00509861 170.75116906\n",
            " 170.00399648 177.51397296 175.13740065 166.4717496  181.49378367\n",
            " 177.80048259 169.61500267 181.46951796 181.54219003 180.59275801\n",
            " 180.06610836 178.05035588 179.43507107 168.31744483 173.69550502\n",
            " 169.9490793  182.13363868 175.43872203 177.67386387 182.94393321\n",
            " 169.33042254 166.68147414 180.69576569 175.36399381 180.46293002\n",
            " 182.98761151 175.13740065 176.34083802 178.77443326 174.19271797\n",
            " 170.22154887 182.49953555 182.11045145 181.6144891  182.22600778\n",
            " 179.23726709 177.41715995 178.50724688 167.94178957 172.18322743\n",
            " 175.95100531 183.62703615 175.62382637 171.70568212 180.14637203\n",
            " 178.23489438 181.71031421 177.92597328 168.00509861 179.65778303\n",
            " 177.61012513 179.84980871 173.04824396 174.43489421 178.833126\n",
            " 171.8986473  181.19979934 174.43489421 179.9313108  178.14292732\n",
            " 176.58341145 168.25552721 169.61500267 174.19271797 168.13086942\n",
            " 183.73084087 171.3116358  183.22545079 177.05637512 174.63357504\n",
            " 166.5420053  173.61090274 172.59959974 174.27390688 172.91514466\n",
            " 180.95003681 177.31967695 173.77960221 167.62090468 169.55854473\n",
            " 169.15687327 172.82570793 178.41704654 174.31432653 178.01936304\n",
            " 174.75145219 182.94393321 172.13619488 174.15194735 178.71549494\n",
            " 174.63357504 179.35063783 180.77253012 178.74499493 178.8038102\n",
            " 180.84887848 182.98761151 183.22545079 173.69550502 180.14637203\n",
            " 173.9876745  182.43164994 178.3565905  170.69909418 183.97689495\n",
            " 166.61191233 180.43682021 173.04824396 179.06548158 177.38474052\n",
            " 178.38685095 174.35463053 180.41066192 183.85440515 180.92481525\n",
            " 177.44950494 183.52246078 182.47694335 175.28886703 172.18322743\n",
            " 182.78998373 169.15687327 178.92070911 183.54343805 175.36399381\n",
            " 180.64435601 168.86278665 175.43872203 183.66864988 177.41715995\n",
            " 172.41606311 170.05870038 175.91502512 177.61012513 174.02892266\n",
            " 182.36343558 178.26541712 181.19979934 179.82253622 182.70125123\n",
            " 177.08955827 173.90481404 180.33189431 178.8038102  182.96578929\n",
            " 175.25115285 181.05047387 182.31777513 169.44494543 181.15019986\n",
            " 174.63357504 180.41066192 180.41066192 176.92285529 174.59406243\n",
            " 168.74341104 175.25115285 182.27196619 171.51003679 170.275416\n",
            " 175.84278784 183.33224613 172.69047901 173.9876745  174.59406243\n",
            " 179.26569543 175.47593801 178.01936304 184.03774272 183.93618325]\n"
          ],
          "name": "stdout"
        }
      ]
    },
    {
      "cell_type": "code",
      "metadata": {
        "id": "CEoSdokk2RVy"
      },
      "source": [
        "b_sort=b[np.argsort(b)]\r\n",
        "open_sort=Lpopen[np.argsort(b)]"
      ],
      "execution_count": 276,
      "outputs": []
    },
    {
      "cell_type": "code",
      "metadata": {
        "colab": {
          "base_uri": "https://localhost:8080/",
          "height": 295
        },
        "id": "kUXTnlJF0yJT",
        "outputId": "0c1f1021-1a15-42ab-efc3-fd4a62913c87"
      },
      "source": [
        "plt.figure()\r\n",
        "plt.plot(d_sort,Urban_sort, label='Urban')\r\n",
        "plt.plot(b_sort,open_sort, label='Open')\r\n",
        "plt.plot(a_sort,suburban_sort, label='Suburban')\r\n",
        "plt.legend()\r\n",
        "plt.title('FREKUENSI 1800 MHZ (GAMBAR CONTOH)')\r\n",
        "plt.xlabel('Jarak (m)')\r\n",
        "plt.ylabel('Path Loss (dB)')\r\n",
        "plt.show()"
      ],
      "execution_count": 277,
      "outputs": [
        {
          "output_type": "display_data",
          "data": {
            "image/png": "[encoded data removed]",
            "text/plain": [
              "<Figure size 432x288 with 1 Axes>"
            ]
          },
          "metadata": {
            "tags": [],
            "needs_background": "light"
          }
        }
      ]
    },
    {
      "cell_type": "code",
      "metadata": {
        "id": "vf9ucZUB6d1g"
      },
      "source": [
        "f=1800 #MHz\r\n",
        "loc='urban'\r\n",
        "tower=80 #m\r\n",
        "user=1.5 #m\r\n",
        "dmin=200 #m\r\n",
        "dmax=700 #m\r\n",
        "N=200 #titik\r\n",
        "x=np.random.randint(dmin,dmax,N)"
      ],
      "execution_count": 241,
      "outputs": []
    },
    {
      "cell_type": "code",
      "metadata": {
        "colab": {
          "base_uri": "https://localhost:8080/"
        },
        "id": "LLSe0MdM6se3",
        "outputId": "06dde8aa-d5a6-4e43-aad8-c041faf8a7d1"
      },
      "source": [
        "print(x)"
      ],
      "execution_count": 242,
      "outputs": [
        {
          "output_type": "stream",
          "text": [
            "[483 297 224 509 454 568 294 348 277 376 684 438 490 251 379 592 545 274\n",
            " 265 257 356 482 690 296 587 201 461 548 254 594 255 539 456 351 406 231\n",
            " 635 532 246 330 563 257 478 651 300 274 439 323 378 547 274 395 473 649\n",
            " 688 652 324 495 288 487 239 422 361 538 505 640 297 470 387 281 389 610\n",
            " 231 645 335 512 587 237 218 276 267 338 466 435 657 478 405 663 490 438\n",
            " 332 498 420 319 397 315 393 484 507 507 620 210 506 240 447 209 271 531\n",
            " 350 235 637 600 263 330 345 545 207 531 350 552 623 220 332 502 308 305\n",
            " 285 500 399 572 315 557 462 293 544 590 653 399 467 529 547 660 480 527\n",
            " 582 457 441 469 303 223 464 580 236 577 470 519 595 675 514 350 640 673\n",
            " 415 527 201 222 439 682 336 297 206 563 527 399 306 474 349 688 424 615\n",
            " 576 657 636 533 492 353 410 673 344 396 449 533 483 600 321 245 246 379\n",
            " 587 609]\n"
          ],
          "name": "stdout"
        }
      ]
    },
    {
      "cell_type": "code",
      "metadata": {
        "id": "kyDE5r9E6tIo"
      },
      "source": [
        "LpUrban1=cos(f,loc,tower,user,x)"
      ],
      "execution_count": 243,
      "outputs": []
    },
    {
      "cell_type": "code",
      "metadata": {
        "colab": {
          "base_uri": "https://localhost:8080/"
        },
        "id": "GlhUvwIn6wlV",
        "outputId": "c3e72040-6640-4610-e30d-772bef532f82"
      },
      "source": [
        "print(LpUrban1)"
      ],
      "execution_count": 244,
      "outputs": [
        {
          "output_type": "stream",
          "text": [
            "[182.06051765 175.21059846 171.23706683 182.79907828 181.18830549\n",
            " 184.34396388 175.06758974 177.44284933 174.22858158 178.53293625\n",
            " 186.96170094 180.68291541 182.26320082 172.84017768 178.64488045\n",
            " 184.92692586 183.76170046 174.07519091 173.6047348  173.17293892\n",
            " 177.76300487 182.03132336 187.08472564 175.16309002 184.807449\n",
            " 169.71094774 181.40383683 183.83902675 173.00754089 184.9744343\n",
            " 173.06288963 183.60576266 181.25022312 177.56376198 179.61425242\n",
            " 171.67052372 185.91462979 183.42162621 172.55674281 176.69473171\n",
            " 184.21941631 173.17293892 181.91393737 186.26516079 175.35216988\n",
            " 174.07519091 180.71503911 176.39271811 178.60766448 183.81329845\n",
            " 174.07519091 179.22734017 181.76581574 186.22181849 187.04383667\n",
            " 186.28678204 176.43626138 182.40620954 174.77714157 182.17669346\n",
            " 172.15010153 180.15871585 177.95946883 183.57960436 182.68794368\n",
            " 186.02511066 175.21059846 181.67618932 178.93912065 174.43053827\n",
            " 179.01173029 185.34884139 171.67052372 186.13473173 176.90655882\n",
            " 182.88185758 184.807449   172.03172909 170.85461155 174.17763673\n",
            " 173.71064686 177.03214275 181.5557934  180.5861024  186.39439323\n",
            " 181.91393737 179.57951445 186.52245082 182.26320082 180.68291541\n",
            " 176.77984519 182.49132302 180.09179773 176.2171864  179.29848294\n",
            " 176.03943972 179.15583628 182.08965155 182.74362058 182.74362058\n",
            " 185.57789095 170.32796189 182.71580964 172.20891681 180.96942503\n",
            " 170.26072435 173.9201115  183.3951234  177.52357297 171.91235348\n",
            " 185.95892618 185.11600572 173.49802037 176.69473171 177.3208898\n",
            " 183.76170046 170.12527872 183.3951234  177.52357297 183.94147257\n",
            " 185.64588579 170.98325388 176.77984519 182.60401352 175.72288173\n",
            " 175.58500555 174.62964035 182.54778096 179.3692682  184.44281507\n",
            " 176.03943972 184.0684909  181.43435956 175.0195957  183.73583041\n",
            " 184.87925665 186.30837014 179.3692682  181.58598899 183.34196773\n",
            " 183.81329845 186.45856755 181.97275265 183.2886107  184.68695008\n",
            " 181.28108017 180.77906757 181.64618668 175.4923326  171.17404105\n",
            " 181.49520734 184.63846041 171.97216775 184.56541147 181.67618932\n",
            " 183.07313824 184.99812856 186.77512553 182.93677476 177.52357297\n",
            " 186.02511066 186.73332658 179.92309826 183.2886107  169.71094774\n",
            " 171.11073201 180.71503911 186.92045278 176.94854466 175.21059846\n",
            " 170.05706436 184.21941631 183.2886107  179.3692682  175.63111439\n",
            " 181.79556493 177.48326897 187.04383667 180.22531757 185.46383172\n",
            " 184.5409774  186.39439323 185.9367954  183.44807925 182.32057865\n",
            " 177.64379763 179.75235389 186.73332658 177.28000084 179.26295647\n",
            " 181.03231012 183.44807925 182.06051765 185.11600572 176.30522567\n",
            " 172.49936498 172.55674281 178.64488045 184.807449   185.32573025]\n"
          ],
          "name": "stdout"
        }
      ]
    },
    {
      "cell_type": "code",
      "metadata": {
        "id": "gOSDTaG560Kj"
      },
      "source": [
        "x_sort=x[np.argsort(x)]\r\n",
        "Urban_sort1=LpUrban1[np.argsort(x)]"
      ],
      "execution_count": 245,
      "outputs": []
    },
    {
      "cell_type": "code",
      "metadata": {
        "id": "GI8nF_yY67Yv"
      },
      "source": [
        "f=900 #MHz\r\n",
        "loc='urban'\r\n",
        "tower=80 #m\r\n",
        "user=1.5 #m\r\n",
        "dmin=200 #m\r\n",
        "dmax=700 #m\r\n",
        "N=200 #titik\r\n",
        "y=np.random.randint(dmin,dmax,N)"
      ],
      "execution_count": 246,
      "outputs": []
    },
    {
      "cell_type": "code",
      "metadata": {
        "colab": {
          "base_uri": "https://localhost:8080/"
        },
        "id": "pYJGOaL67VAn",
        "outputId": "830a9dfb-eeca-4557-92a5-0eb1a56b26b3"
      },
      "source": [
        "print(y)"
      ],
      "execution_count": 247,
      "outputs": [
        {
          "output_type": "stream",
          "text": [
            "[277 346 484 570 511 343 627 388 647 558 531 299 344 678 625 338 403 475\n",
            " 312 517 647 622 572 543 541 344 391 676 326 226 203 496 368 301 378 502\n",
            " 329 308 355 653 460 624 293 484 518 496 404 677 270 296 330 325 230 488\n",
            " 660 342 535 291 257 350 553 555 327 420 435 272 403 527 523 450 356 380\n",
            " 664 550 696 388 239 387 333 555 622 384 512 200 440 683 475 634 550 282\n",
            " 552 323 418 334 210 368 229 509 317 550 457 288 565 215 342 607 338 650\n",
            " 414 652 258 491 405 367 645 502 409 533 302 516 253 279 231 427 475 346\n",
            " 352 657 697 377 534 660 638 633 530 290 503 247 524 636 372 509 574 477\n",
            " 614 285 315 210 443 352 593 527 592 497 498 400 317 591 331 484 224 342\n",
            " 540 513 694 300 370 478 436 474 410 276 416 578 573 513 356 223 348 665\n",
            " 343 690 548 355 597 622 490 542 259 463 487 685 208 324 638 341 466 404\n",
            " 614 394]\n"
          ],
          "name": "stdout"
        }
      ]
    },
    {
      "cell_type": "code",
      "metadata": {
        "id": "2LG_KukK7Yg4"
      },
      "source": [
        "LpUrban2=cos(f,loc,tower,user,y)"
      ],
      "execution_count": 248,
      "outputs": []
    },
    {
      "cell_type": "code",
      "metadata": {
        "colab": {
          "base_uri": "https://localhost:8080/"
        },
        "id": "p7su1nO27cYv",
        "outputId": "6bbc7799-3847-406a-9153-045606ab16fb"
      },
      "source": [
        "print(LpUrban2)"
      ],
      "execution_count": 249,
      "outputs": [
        {
          "output_type": "stream",
          "text": [
            "[164.43492041 167.56799924 172.29599038 174.59981501 173.06065732\n",
            " 167.44533166 175.94237684 169.18181108 176.38468123 174.30009652\n",
            " 173.60146223 165.51147614 167.48633966 177.04393115 175.89737285\n",
            " 167.23848158 169.71611929 172.03159025 166.11098098 173.22508998\n",
            " 176.38468123 175.82959612 174.6491539  173.91625158 173.86427279\n",
            " 167.48633966 169.29030638 177.00231742 166.72928502 161.56861748\n",
            " 160.0567554  172.6409767  168.43633356 165.60538474 168.8140033\n",
            " 172.81035234 166.85832016 165.92922056 167.92971993 176.51470897\n",
            " 171.57958663 175.87481682 165.22593453 172.29599038 173.25230977\n",
            " 172.6409767  169.75102943 177.02313965 164.07437545 165.36942885\n",
            " 166.90107053 166.68600929 161.81575079 172.41192714 176.66490637\n",
            " 167.40420393 173.70717558 165.12945307 163.37927775 167.72991179\n",
            " 174.17330685 174.22415975 166.7724282  170.29813655 170.79244122\n",
            " 164.17833339 169.71611929 173.49494953 173.38762529 171.26998653\n",
            " 167.96934369 168.88833718 176.75001985 174.09668161 177.41302399\n",
            " 169.18181108 162.35644036 169.14545948 167.02854867 174.22415975\n",
            " 175.82959612 169.0358384  173.08819641 159.84703087 170.95342854\n",
            " 177.14743079 172.03159025 176.09876808 174.09668161 164.68691707\n",
            " 174.14781139 166.59905694 170.23089901 167.07078629 160.53430071\n",
            " 168.43633356 161.75437275 173.00541711 166.33493224 174.09668161\n",
            " 171.48741899 164.98348039 174.47570639 160.86575689 167.40420393\n",
            " 175.48573272 167.23848158 176.44984513 170.09545338 176.49312086\n",
            " 163.43398165 172.49825778 169.78585328 168.39800364 176.34107056\n",
            " 172.81035234 169.92429407 173.65441807 165.65210531 173.19781749\n",
            " 163.15831263 164.53626068 161.87686255 170.53097223 172.03159025\n",
            " 167.56799924 167.81017547 176.60073206 177.43324831 168.77668874\n",
            " 173.68082152 176.66490637 176.18736106 176.0765325  173.57490946\n",
            " 165.08096339 172.83838466 162.8202267  173.41453311 176.14313422\n",
            " 168.58861869 173.00541711 174.69832057 172.09077621 175.64724745\n",
            " 164.83597917 166.24577854 160.53430071 171.04914514 167.81017547\n",
            " 175.15703893 173.49494953 175.13326469 172.66934778 172.69766184\n",
            " 169.61086671 166.33493224 175.10945025 166.94369156 172.29599038\n",
            " 161.44340565 167.40420393 173.83821129 173.11568176 177.37248802\n",
            " 165.5585087  168.51268192 172.1202762  170.82478621 172.00190375\n",
            " 169.95869272 164.38397555 170.16333899 174.79614206 174.67375868\n",
            " 173.11568176 167.96934369 161.38037988 167.64918815 176.7712181\n",
            " 167.44533166 177.29106446 174.04536557 167.92971993 175.25173668\n",
            " 175.82959612 172.46953965 173.89028616 163.48847393 171.67115513\n",
            " 172.38303229 177.18861864 160.39950315 166.64260021 176.18736106\n",
            " 167.36295577 171.76213222 169.75102943 175.64724745 169.39797242]\n"
          ],
          "name": "stdout"
        }
      ]
    },
    {
      "cell_type": "code",
      "metadata": {
        "id": "TbRMIT6W7ePy"
      },
      "source": [
        "y_sort=y[np.argsort(y)]\r\n",
        "Urban_sort2=LpUrban2[np.argsort(y)]"
      ],
      "execution_count": 250,
      "outputs": []
    },
    {
      "cell_type": "code",
      "metadata": {
        "id": "JxE42yPk7lEg"
      },
      "source": [
        "f=700 #MHz\r\n",
        "loc='urban'\r\n",
        "tower=80 #m\r\n",
        "user=1.5 #m\r\n",
        "dmin=200 #m\r\n",
        "dmax=700 #m\r\n",
        "N=200 #titik\r\n",
        "z=np.random.randint(dmin,dmax,N)"
      ],
      "execution_count": 251,
      "outputs": []
    },
    {
      "cell_type": "code",
      "metadata": {
        "colab": {
          "base_uri": "https://localhost:8080/"
        },
        "id": "S1fqsZD37tSf",
        "outputId": "4b60fd44-5f3c-45fe-a850-7fef919d196e"
      },
      "source": [
        "print(z)"
      ],
      "execution_count": 252,
      "outputs": [
        {
          "output_type": "stream",
          "text": [
            "[573 689 497 639 253 491 480 247 645 374 509 263 276 448 693 608 573 642\n",
            " 455 253 451 531 643 364 264 292 343 652 625 484 264 667 351 244 345 457\n",
            " 277 304 676 638 482 441 604 612 308 540 356 256 497 450 640 246 348 417\n",
            " 287 681 356 242 434 305 436 432 604 564 407 385 261 556 693 216 308 258\n",
            " 561 380 691 291 407 504 642 244 450 237 630 611 452 554 350 554 631 336\n",
            " 394 274 502 253 212 654 464 402 366 290 205 596 266 450 433 432 530 418\n",
            " 488 384 656 212 218 340 299 300 457 643 281 463 661 671 269 214 319 623\n",
            " 396 259 352 615 443 306 673 659 490 460 573 350 538 273 244 559 546 471\n",
            " 603 562 503 587 270 570 425 491 261 399 676 527 485 543 295 268 625 449\n",
            " 609 332 578 600 370 289 269 601 655 608 212 523 374 482 547 460 653 407\n",
            " 515 457 218 556 427 543 232 359 636 257 514 330 270 529 628 268 279 524\n",
            " 310 318]\n"
          ],
          "name": "stdout"
        }
      ]
    },
    {
      "cell_type": "code",
      "metadata": {
        "id": "b03WDsm070Q_"
      },
      "source": [
        "LpUrban3=cos(f,loc,tower,user,z)"
      ],
      "execution_count": 253,
      "outputs": []
    },
    {
      "cell_type": "code",
      "metadata": {
        "colab": {
          "base_uri": "https://localhost:8080/"
        },
        "id": "Unl7pwOF73_P",
        "outputId": "97b5ef0f-303d-435b-b2d9-4342b434bafb"
      },
      "source": [
        "print(LpUrban3)"
      ],
      "execution_count": 254,
      "outputs": [
        {
          "output_type": "stream",
          "text": [
            "[171.82836237 174.4252385  169.82395147 173.3640262  160.31291631\n",
            " 169.65286146 169.33369515 159.97483038 173.49567424 165.81875198\n",
            " 170.16002079 160.85896287 161.53857923 168.36184517 174.5067799\n",
            " 172.66352363 171.82836237 173.43000402 168.58024083 160.31291631\n",
            " 168.45585823 170.75606591 173.45192813 165.43698776 160.91242115\n",
            " 162.33238008 164.59993534 173.64772454 173.05197653 169.45059406\n",
            " 160.91242115 173.96812283 164.92470448 159.80269499 164.6818323\n",
            " 168.64202267 161.58952409 162.89968779 174.1569211  173.34196474\n",
            " 169.39226587 168.14001008 172.57054483 172.75589273 163.08382424\n",
            " 170.99281497 165.12394737 160.47896425 169.82395147 168.42459021\n",
            " 173.38605316 159.91768532 164.80379183 167.35176319 162.08908841\n",
            " 174.26072582 165.12394737 159.68675822 167.91462547 162.94594806\n",
            " 167.97938989 167.8495619  172.57054483 171.60535659 167.00984743\n",
            " 166.22707731 160.75143382 171.4041212  174.5067799  158.08572606\n",
            " 163.08382424 160.58858533 171.53022981 166.04294086 174.4660682\n",
            " 162.28405675 167.00984743 170.02096499 173.43000402 159.80269499\n",
            " 168.42459021 159.3926716  173.16421806 172.73285718 168.487057\n",
            " 171.35335993 164.88451548 171.35335993 173.18655944 164.30948716\n",
            " 166.5525761  161.43613342 169.96495602 160.31291631 157.82242424\n",
            " 173.69086772 168.85614984 166.83572609 165.51417282 162.23556707\n",
            " 157.34946056 172.38272555 161.01873288 168.42459021 167.88213125\n",
            " 167.8495619  170.72951314 167.3855027  169.56653082 166.19044208\n",
            " 173.73387917 157.82242424 158.21555405 164.47619015 162.66607983\n",
            " 162.71311238 168.64202267 173.45192813 161.79148078 168.82575881\n",
            " 173.84083669 174.05234573 161.17671103 157.95469035 163.57812891\n",
            " 173.0068283  166.62389897 160.64307761 164.96477916 172.82477423\n",
            " 168.20374882 162.9920569  174.09426909 173.79815109 169.62414333\n",
            " 168.73419031 171.82836237 164.88451548 170.94054687 161.38462975\n",
            " 159.80269499 171.47992176 171.14846559 169.06707071 172.54720392\n",
            " 171.55531661 169.99298835 172.16839151 161.22897913 171.75441869\n",
            " 167.61944322 169.65286146 160.75143382 166.73021071 174.1569211\n",
            " 170.64955321 169.47966783 171.07085527 162.47636332 161.12424826\n",
            " 173.05197653 168.39325263 172.68667275 164.14078769 171.95074574\n",
            " 172.47694822 165.6672856  162.1869099  161.17671103 172.50040574\n",
            " 173.71238986 172.66352363 157.82242424 170.54222897 165.81875198\n",
            " 169.39226587 171.17424096 168.73419031 173.66931265 167.00984743\n",
            " 170.32509577 168.64202267 158.21555405 171.4041212  167.68557591\n",
            " 171.07085527 159.092314   165.24215426 173.2977379  160.53388143\n",
            " 170.29771727 164.05567422 161.22897913 170.70291023 173.11942872\n",
            " 161.12424826 161.69086436 170.56913679 163.17499762 163.53390206]\n"
          ],
          "name": "stdout"
        }
      ]
    },
    {
      "cell_type": "code",
      "metadata": {
        "id": "_nLiCVAH75-v"
      },
      "source": [
        "z_sort=z[np.argsort(z)]\r\n",
        "Urban_sort3=LpUrban3[np.argsort(z)]"
      ],
      "execution_count": 255,
      "outputs": []
    },
    {
      "cell_type": "code",
      "metadata": {
        "colab": {
          "base_uri": "https://localhost:8080/",
          "height": 295
        },
        "id": "3__KJQxx7-f1",
        "outputId": "1585a400-d90a-4dea-c9a9-8e1144cc7554"
      },
      "source": [
        "plt.figure()\r\n",
        "plt.plot(x_sort,Urban_sort1,'g', label='1800 Mhz')\r\n",
        "plt.plot(y_sort,Urban_sort2,'y', label='900 Mhz')\r\n",
        "plt.plot(z_sort,Urban_sort3,'c', label='700 Mhz')\r\n",
        "plt.legend()\r\n",
        "plt.title('Model Urban (GAMBAR CONTOH)')\r\n",
        "plt.xlabel('Jarak (m)')\r\n",
        "plt.ylabel('Path Loss (dB)')\r\n",
        "plt.show()"
      ],
      "execution_count": 259,
      "outputs": [
        {
          "output_type": "display_data",
          "data": {
            "image/png": "[encoded data removed]",
            "text/plain": [
              "<Figure size 432x288 with 1 Axes>"
            ]
          },
          "metadata": {
            "tags": [],
            "needs_background": "light"
          }
        }
      ]
    },
    {
      "cell_type": "code",
      "metadata": {
        "id": "y6swPuO19G34"
      },
      "source": [
        ""
      ],
      "execution_count": null,
      "outputs": []
    }
  ]
}