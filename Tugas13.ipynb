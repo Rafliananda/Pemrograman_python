{
  "nbformat": 4,
  "nbformat_minor": 0,
  "metadata": {
    "colab": {
      "name": "Untitled0.ipynb",
      "provenance": [],
      "authorship_tag": "ABX9TyN6jypy+OKIBPLTkA4acl8C",
      "include_colab_link": true
    },
    "kernelspec": {
      "name": "python3",
      "display_name": "Python 3"
    }
  },
  "cells": [
    {
      "cell_type": "markdown",
      "metadata": {
        "id": "view-in-github",
        "colab_type": "text"
      },
      "source": [
        "<a href=\"https://colab.research.google.com/github/Rafliananda/Pemrograman_python/blob/main/Tugas13.ipynb\" target=\"_parent\"><img src=\"https://colab.research.google.com/assets/colab-badge.svg\" alt=\"Open In Colab\"/></a>"
      ]
    },
    {
      "cell_type": "code",
      "metadata": {
        "id": "3v4adzNYuOVS"
      },
      "source": [
        "import numpy as np\r\n",
        "import matplotlib.pyplot as plt"
      ],
      "execution_count": 51,
      "outputs": []
    },
    {
      "cell_type": "code",
      "metadata": {
        "id": "XqkTug43uRsU"
      },
      "source": [
        "def cos(frek,tipe,ht,hr,d):\r\n",
        "  #frek = frekuensi (MHz)\r\n",
        "  #tipe = urban, suburban, open\r\n",
        "  #ht = tinggi tower (meter)\r\n",
        "  #hr = tinggi user (meter)\r\n",
        "  #d = jarak (meter)\r\n",
        "    if frek in range(150,1501):\r\n",
        "        Ca=69.55\r\n",
        "        Cb=26.16\r\n",
        "    elif frek in range(1501,2001):\r\n",
        "        Ca=46.3\r\n",
        "        Cb=33.9\r\n",
        "    \r\n",
        "    if tipe=='urban' :\r\n",
        "        Cm=0\r\n",
        "    elif tipe=='suburban' :\r\n",
        "        Cm= -2*((np.log10((frek/28)**2))-5.4)\r\n",
        "    elif tipe=='open' :\r\n",
        "        Cm= -4.78*(np.log10(frek))+18.33*(np.log10(frek))-40.94\r\n",
        "    else :\r\n",
        "        Cm='tipe salah'\r\n",
        "    \r\n",
        "    ahr = (1.1*np.log10(frek)-0.7)*hr-(1.56*np.log10(frek)-1.8)\r\n",
        "    Lp = Ca+(Cb*np.log10(frek))-(13.83*np.log(ht))-ahr+((44.9-6.55*np.log10(ht))*np.log10(d))-Cm\r\n",
        "    \r\n",
        "    return Lp"
      ],
      "execution_count": 130,
      "outputs": []
    },
    {
      "cell_type": "code",
      "metadata": {
        "id": "o71rSGYLxqBZ"
      },
      "source": [
        "f=1800 #MHz\r\n",
        "loc='urban'\r\n",
        "tower=80 #m\r\n",
        "user=1.5 #m\r\n",
        "dmin=200 #m\r\n",
        "dmax=700 #m\r\n",
        "N=200 #titik\r\n",
        "d=np.random.randint(dmin,dmax,N)"
      ],
      "execution_count": 131,
      "outputs": []
    },
    {
      "cell_type": "code",
      "metadata": {
        "colab": {
          "base_uri": "https://localhost:8080/"
        },
        "id": "8jwP-SLc2_ww",
        "outputId": "36840b39-cf3f-4319-a5f4-e9a2aa98b355"
      },
      "source": [
        "print(d)"
      ],
      "execution_count": 132,
      "outputs": [
        {
          "output_type": "stream",
          "text": [
            "[412 423 386 557 415 426 239 473 443 554 329 538 651 481 586 279 519 647\n",
            " 398 346 646 472 452 486 495 460 652 445 382 412 225 580 283 687 287 688\n",
            " 435 264 237 447 300 215 488 236 364 307 402 499 610 289 374 496 353 212\n",
            " 305 430 382 235 251 249 636 300 300 363 288 303 275 302 367 555 622 553\n",
            " 215 413 668 663 208 386 593 426 660 510 613 349 466 680 463 678 395 368\n",
            " 229 669 262 649 371 642 695 576 370 490 687 624 209 431 320 389 261 684\n",
            " 268 472 674 436 590 344 507 345 626 554 490 233 628 669 428 569 425 397\n",
            " 654 450 617 209 635 426 609 330 207 429 635 467 222 434 630 438 371 581\n",
            " 345 487 209 320 593 565 351 468 242 396 477 640 672 619 602 387 374 228\n",
            " 291 566 450 419 517 497 660 230 528 363 572 328 565 429 510 544 405 514\n",
            " 269 208 558 576 432 413 329 273 275 551 266 519 327 606 617 260 426 478\n",
            " 418 544]\n"
          ],
          "name": "stdout"
        }
      ]
    },
    {
      "cell_type": "code",
      "metadata": {
        "id": "S7RJeEwu0RqN"
      },
      "source": [
        "LpUrban=cos(f,loc,tower,user,d)"
      ],
      "execution_count": 133,
      "outputs": []
    },
    {
      "cell_type": "code",
      "metadata": {
        "colab": {
          "base_uri": "https://localhost:8080/"
        },
        "id": "16joBfbl4s1Y",
        "outputId": "d259172a-6c63-458d-c3a6-0059e56dc28d"
      },
      "source": [
        "print(LpUrban)"
      ],
      "execution_count": 134,
      "outputs": [
        {
          "output_type": "stream",
          "text": [
            "[179.8209002  180.19205607 178.902675   184.0684909  179.92309826\n",
            " 180.29160587 172.15010153 181.76581574 180.84280631 183.99241742\n",
            " 176.65198134 183.57960436 186.26516079 182.00206845 184.78343154\n",
            " 174.32992186 183.07313824 186.17834241 179.33392003 177.36166041\n",
            " 186.15655395 181.73600358 181.12611449 182.14773921 182.40620954\n",
            " 181.37324781 186.28678204 180.90625794 178.75594203 179.8209002\n",
            " 171.29981187 184.63846041 174.53044108 187.0233476  174.72814591\n",
            " 187.04383667 180.5861024  173.55147864 172.03172909 180.96942503\n",
            " 175.35216988 170.65941807 182.20558832 171.97216775 178.07604525\n",
            " 175.67707279 179.47478358 182.51958027 185.34884139 174.82596739\n",
            " 178.45780947 182.43463788 177.64379763 170.46148173 175.58500555\n",
            " 180.42325391 178.75594203 171.91235348 172.84017768 172.72748718\n",
            " 185.9367954  175.35216988 175.35216988 178.03729354 174.77714157\n",
            " 175.4923326  174.12650695 175.44576648 178.19166482 184.01782092\n",
            " 185.62325729 183.96696802 170.65941807 179.85504867 186.62828331\n",
            " 186.52245082 170.19316433 178.902675   184.95070011 180.29160587\n",
            " 186.45856755 182.82672547 185.41794817 177.48326897 181.5557934\n",
            " 186.87908348 181.4648163  186.83759232 179.22734017 178.22999474\n",
            " 171.54803393 186.64935472 173.44435845 186.22181849 178.34436265\n",
            " 186.06906151 187.18643176 184.5409774  178.30634309 182.26320082\n",
            " 187.0233476  185.668478   170.26072435 180.45597456 176.26127482\n",
            " 179.01173029 173.39049132 186.96170094 173.76330575 181.73600358\n",
            " 186.75424156 180.61844739 184.87925665 177.28000084 182.74362058\n",
            " 177.3208898  185.713554   183.99241742 182.26320082 171.79195756\n",
            " 185.75848621 186.64935472 180.35758368 184.36874179 180.25850071\n",
            " 179.29848294 186.32992522 181.06364771 185.5095663  170.26072435\n",
            " 185.91462979 180.29160587 185.32573025 176.69473171 170.12527872\n",
            " 180.39045706 185.91462979 181.58598899 171.11073201 180.55368296\n",
            " 185.80327556 180.68291541 178.34436265 184.66272611 177.3208898\n",
            " 182.17669346 170.26072435 176.26127482 184.95070011 184.26936756\n",
            " 177.56376198 181.61611999 172.32581571 179.26295647 181.88443739\n",
            " 186.02511066 186.7123805  185.55515287 185.16288176 178.93912065\n",
            " 178.45780947 171.48638728 174.92311425 184.29427692 181.06364771\n",
            " 180.05821908 183.01875116 182.46300896 186.45856755 171.60941197\n",
            " 183.31531448 178.03729354 184.44281507 176.60910082 184.26936756\n",
            " 180.39045706 182.82672547 183.73583041 179.57951445 182.93677476\n",
            " 173.81576852 170.19316433 184.0937577  184.5409774  180.48861939\n",
            " 179.85504867 176.65198134 174.02368724 174.12650695 183.91593088\n",
            " 173.65779037 183.07313824 176.56608938 185.25616844 185.5095663\n",
            " 173.3364174  180.29160587 181.91393737 180.02456019 183.73583041]\n"
          ],
          "name": "stdout"
        }
      ]
    },
    {
      "cell_type": "code",
      "metadata": {
        "id": "cvxRryoM0pEA"
      },
      "source": [
        "d_sort=d[np.argsort(d)]\r\n",
        "Urban_sort=LpUrban[np.argsort(d)]"
      ],
      "execution_count": 135,
      "outputs": []
    },
    {
      "cell_type": "code",
      "metadata": {
        "id": "sYBQWMja1a9C"
      },
      "source": [
        "f=1800 #MHz\r\n",
        "loc='suburban'\r\n",
        "tower=80 #m\r\n",
        "user=1.5 #m\r\n",
        "dmin=200 #m\r\n",
        "dmax=700 #m\r\n",
        "N=200 #titik\r\n",
        "a=np.random.randint(dmin,dmax,N)"
      ],
      "execution_count": 136,
      "outputs": []
    },
    {
      "cell_type": "code",
      "metadata": {
        "colab": {
          "base_uri": "https://localhost:8080/"
        },
        "id": "L6sLXGUi3Ch8",
        "outputId": "9c9ebade-1a18-4915-a78f-d5ab57f620cd"
      },
      "source": [
        "print(a)"
      ],
      "execution_count": 137,
      "outputs": [
        {
          "output_type": "stream",
          "text": [
            "[530 426 206 550 675 322 330 668 433 673 517 303 225 290 323 495 434 245\n",
            " 208 681 226 354 533 337 254 482 431 588 403 304 519 640 272 493 520 236\n",
            " 391 568 698 391 691 460 299 238 464 281 500 528 626 591 511 241 366 293\n",
            " 699 443 249 601 500 644 274 417 431 253 287 624 335 421 598 691 469 275\n",
            " 350 235 617 289 567 203 230 687 308 243 212 605 573 417 556 485 512 386\n",
            " 677 378 673 651 567 394 458 250 276 381 416 666 624 570 269 329 593 377\n",
            " 317 645 625 470 590 654 542 368 556 268 561 606 693 479 532 264 514 465\n",
            " 573 606 368 262 547 215 654 243 543 560 210 296 207 318 499 333 594 519\n",
            " 263 641 648 418 675 580 220 616 540 571 588 676 219 522 381 432 367 322\n",
            " 616 356 511 658 698 392 505 597 498 423 499 512 399 262 261 209 568 519\n",
            " 333 351 497 508 275 632 515 271 642 565 276 294 418 435 330 446 578 652\n",
            " 660 252]\n"
          ],
          "name": "stdout"
        }
      ]
    },
    {
      "cell_type": "code",
      "metadata": {
        "id": "PKEyOFOO1zr4"
      },
      "source": [
        "Lpsuburban=cos(f,loc,tower,user,a)"
      ],
      "execution_count": 138,
      "outputs": []
    },
    {
      "cell_type": "code",
      "metadata": {
        "colab": {
          "base_uri": "https://localhost:8080/"
        },
        "id": "2fZDIS5R4x7D",
        "outputId": "12d05307-269a-4132-f35f-0a0c20198847"
      },
      "source": [
        "print(Lpsuburban)"
      ],
      "execution_count": 119,
      "outputs": [
        {
          "output_type": "stream",
          "text": [
            "[176.52425562 178.3758336  178.89546686 172.86871928 175.62409149\n",
            " 179.6943141  178.04857788 183.35291068 176.04671031 179.45120905\n",
            " 166.55773661 179.17607848 175.2985927  173.33901672 183.57829529\n",
            " 181.14359037 183.18669946 180.87527297 175.73094083 179.88053714\n",
            " 180.24575635 173.95603087 168.87421038 179.7210686  176.15041315\n",
            " 179.12040158 182.01034884 179.12040158 178.16846148 172.24651301\n",
            " 182.95490872 170.30049452 173.38100255 171.9247905  175.83698578\n",
            " 174.96539415 178.95203817 181.52496696 174.46975144 183.55795415\n",
            " 174.43089283 176.8557118  180.99786937 178.58019711 173.67145073\n",
            " 183.12386112 175.58829417 172.38217605 176.18481179 178.3758336\n",
            " 177.55857239 175.26195747 176.92107729 173.21230308 182.56718963\n",
            " 173.79411831 182.23573345 176.59117374 182.63255512 178.10864722\n",
            " 182.71923993 181.94202419 170.3525694  168.34481138 182.07834369\n",
            " 178.49297554 178.04857788 180.626832   172.69373271 169.98393654\n",
            " 171.83150381 167.85692755 171.78462777 168.58255943 176.32157245\n",
            " 177.01856029 181.82740812 180.09039186 179.17607848 177.43336056\n",
            " 182.82685113 171.64305635 166.35209446 183.43528657 173.71245873\n",
            " 167.09187596 166.14340564 176.88843246 171.6904051  173.71245873\n",
            " 178.1385861  178.98023885 179.53271113 176.38945806 177.30702575\n",
            " 180.52621559 173.75334769 171.06209824 175.07733835 178.49297554\n",
            " 176.95364664 174.39192672 181.31171455 183.03963822 166.82733791\n",
            " 178.63804621 177.08317617 175.55240565 179.50559614 173.75334769\n",
            " 178.55118322 167.66952473 172.86871928 178.58019711 178.72437685\n",
            " 167.15724145 172.29187935 178.58019711 167.60649895 177.05090528\n",
            " 177.30702575 169.93047826 183.20758343 183.53758359 168.6413747\n",
            " 182.99733718 181.095184   180.42487532 177.08317617 181.57192113\n",
            " 175.73094083 170.71180075 181.80437257 181.21588943 181.50143105\n",
            " 166.62562223 178.86709577 181.66536252 170.3525694  173.29690536\n",
            " 174.73880099 182.54533355 182.16849591 181.91917547 168.93182288\n",
            " 175.97714851 181.61871931 172.10953069 178.52210945 177.52737362\n",
            " 166.14340564 178.98023885 177.8057057  181.80437257 173.79411831\n",
            " 177.17954762 177.65175622 182.16849591 180.55143715 183.29081107\n",
            " 174.73880099 174.5856882  179.45120905 168.52349755 180.9734353\n",
            " 173.46460065 182.89102544 177.52737362 176.18481179 182.65427638\n",
            " 174.43089283 179.8275813  174.03629454 169.66010072 171.6904051\n",
            " 179.90694059 178.92378091 178.3758336  168.52349755 167.60649895\n",
            " 174.96539415 174.54714854 168.16382939 182.89102544 178.3758336\n",
            " 181.66536252 178.07864457 179.25918336 182.82685113 174.31366965\n",
            " 172.42710827 174.77682055 182.50151941 171.97120318 166.14340564\n",
            " 175.07733835 181.54846361 176.69095861 178.81018161 183.18669946]\n"
          ],
          "name": "stdout"
        }
      ]
    },
    {
      "cell_type": "code",
      "metadata": {
        "id": "kCN-wxLq2AGm"
      },
      "source": [
        "a_sort=a[np.argsort(a)]\r\n",
        "suburban_sort=Lpsuburban[np.argsort(a)]"
      ],
      "execution_count": 142,
      "outputs": []
    },
    {
      "cell_type": "code",
      "metadata": {
        "id": "CmgMgHsX2KEo"
      },
      "source": [
        "f=1800 #MHz\r\n",
        "loc='open'\r\n",
        "tower=80 #m\r\n",
        "user=1.5 #m\r\n",
        "dmin=200 #m\r\n",
        "dmax=700 #m\r\n",
        "N=200 #titik\r\n",
        "b=np.random.randint(dmin,dmax,N)"
      ],
      "execution_count": 143,
      "outputs": []
    },
    {
      "cell_type": "code",
      "metadata": {
        "colab": {
          "base_uri": "https://localhost:8080/"
        },
        "id": "R0n0IWq_4BLL",
        "outputId": "a53e0380-9f0f-4faf-d9d2-e75277c249bd"
      },
      "source": [
        "print(b)"
      ],
      "execution_count": 144,
      "outputs": [
        {
          "output_type": "stream",
          "text": [
            "[524 587 331 282 660 279 593 266 655 311 639 279 216 338 202 509 294 387\n",
            " 663 659 600 614 532 329 244 568 453 381 344 541 448 409 562 496 630 348\n",
            " 394 363 233 670 630 512 267 403 551 644 370 597 456 422 663 432 661 485\n",
            " 262 642 431 296 494 227 251 418 243 621 694 534 332 635 439 274 439 555\n",
            " 229 355 622 421 326 537 575 505 582 250 604 581 561 428 647 670 353 585\n",
            " 408 555 263 498 340 341 445 374 441 213 269 226 265 471 667 523 451 428\n",
            " 682 697 651 537 604 615 690 689 523 315 451 506 698 345 247 342 531 383\n",
            " 255 660 600 606 639 556 689 504 388 339 266 470 393 329 660 626 270 241\n",
            " 284 386 326 498 213 493 620 531 629 348 456 207 600 624 635 588 201 442\n",
            " 379 247 550 408 578 642 472 314 350 577 674 505 264 220 559 325 386 631\n",
            " 472 511 511 497 373 504 613 548 388 386 222 226 329 341 676 472 283 526\n",
            " 622 578]\n"
          ],
          "name": "stdout"
        }
      ]
    },
    {
      "cell_type": "code",
      "metadata": {
        "id": "XiNP_O9l2NgO"
      },
      "source": [
        "Lpopen=cos(f,loc,tower,user,b)"
      ],
      "execution_count": 145,
      "outputs": []
    },
    {
      "cell_type": "code",
      "metadata": {
        "colab": {
          "base_uri": "https://localhost:8080/"
        },
        "id": "mycz4YKD43uw",
        "outputId": "c93e6e3f-b072-46b0-a2af-fd448dd0e39f"
      },
      "source": [
        "print(Lpopen)"
      ],
      "execution_count": 146,
      "outputs": [
        {
          "output_type": "stream",
          "text": [
            "[180.03925184 181.63850656 173.56841029 171.3116358  183.2896251\n",
            " 171.16097942 181.78175766 170.48884793 183.18250491 172.69047901\n",
            " 182.83414125 171.16097942 167.55584111 173.86320031 166.61191233\n",
            " 179.63013584 171.8986473  175.77017821 183.35350838 183.26826614\n",
            " 181.94706327 182.27196619 180.25268377 173.48303889 169.27281004\n",
            " 181.17502143 177.98830187 175.55007627 174.11105839 180.48899152\n",
            " 177.83196022 176.54901281 181.02543166 179.26569543 182.63433311\n",
            " 174.27390688 176.02269115 174.8683511  168.62301511 183.50145222\n",
            " 182.63433311 179.71291514 170.54170442 176.34083802 180.74698843\n",
            " 182.94393321 175.13740065 181.87645542 178.08128067 176.9897734\n",
            " 183.35350838 177.31967695 183.31095174 178.94978288 170.275416\n",
            " 182.90011907 177.28703212 171.99414758 179.20878127 168.25552721\n",
            " 169.67123523 176.85561775 169.21496093 182.43164994 183.99720676\n",
            " 180.30554025 173.61090274 182.74568735 177.54609666 170.90624847\n",
            " 177.54609666 180.84887848 168.37909149 174.55443866 182.45431485\n",
            " 176.95635408 173.35400375 180.38445496 181.34755843 179.51900124\n",
            " 181.51800764 169.61500267 182.04065988 181.49378367 181.00034486\n",
            " 177.18864124 183.00939997 183.50145222 174.47485519 181.59043061\n",
            " 176.51452995 180.84887848 170.32907792 179.32238057 173.9463052\n",
            " 173.9876745  177.7373155  175.28886703 177.61012513 167.35882758\n",
            " 170.64682608 168.19333621 170.43579236 178.53718576 183.43823788\n",
            " 180.01234402 177.92597328 177.18864124 183.75151034 184.05796704\n",
            " 183.09621835 180.38445496 182.04065988 182.29488928 183.91578319\n",
            " 183.89535355 180.01234402 172.87049728 177.92597328 179.5468672\n",
            " 184.07816237 174.15194735 169.44494543 174.02892266 180.22618096\n",
            " 175.62382637 169.89394719 183.2896251  181.94706327 182.087226\n",
            " 182.83414125 180.87423625 183.89535355 179.49108004 175.80652981\n",
            " 173.90481404 170.48884793 178.50724688 175.98689383 173.48303889\n",
            " 183.2896251  182.54461155 170.69909418 169.09854508 171.41118559\n",
            " 175.73373256 173.35400375 179.32238057 167.35882758 179.18023772\n",
            " 182.4089485  180.22618096 182.61195624 174.27390688 178.08128067\n",
            " 166.95633627 181.94706327 182.49953555 182.74568735 181.66248314\n",
            " 166.5420053  177.64203055 175.47593801 169.44494543 180.72140035\n",
            " 176.51452995 181.42086079 182.90011907 178.56706114 172.82570793\n",
            " 174.35463053 181.39646903 183.58529912 179.51900124 170.3825362\n",
            " 167.81431144 180.95003681 173.31072803 175.73373256 182.65667449\n",
            " 178.56706114 179.68537606 179.68537606 179.29406652 175.25115285\n",
            " 179.49108004 182.24900573 180.67008431 175.80652981 175.73373256\n",
            " 167.94178957 168.19333621 173.48303889 173.9876745  183.62703615\n",
            " 178.56706114 171.36149864 180.09291376 182.45431485 181.42086079]\n"
          ],
          "name": "stdout"
        }
      ]
    },
    {
      "cell_type": "code",
      "metadata": {
        "id": "CEoSdokk2RVy"
      },
      "source": [
        "b_sort=b[np.argsort(b)]\r\n",
        "open_sort=Lpopen[np.argsort(b)]"
      ],
      "execution_count": 147,
      "outputs": []
    },
    {
      "cell_type": "code",
      "metadata": {
        "colab": {
          "base_uri": "https://localhost:8080/",
          "height": 295
        },
        "id": "kUXTnlJF0yJT",
        "outputId": "4f5ea998-0ed5-4a27-f95f-58767214b0d1"
      },
      "source": [
        "plt.figure()\r\n",
        "plt.plot(d_sort,Urban_sort, label='Urban')\r\n",
        "plt.plot(a_sort,suburban_sort, label='Suburban')\r\n",
        "plt.plot(b_sort,open_sort, label='Open')\r\n",
        "plt.legend()\r\n",
        "plt.title('FREKUENSI 1800 MHZ (GAMBAR CONTOH)')\r\n",
        "plt.xlabel('Jarak (m)')\r\n",
        "plt.ylabel('Path Loss (dB)')\r\n",
        "plt.show()"
      ],
      "execution_count": 149,
      "outputs": [
        {
          "output_type": "display_data",
          "data": {
            "image/png": "[encoded data removed]",
            "text/plain": [
              "<Figure size 432x288 with 1 Axes>"
            ]
          },
          "metadata": {
            "tags": [],
            "needs_background": "light"
          }
        }
      ]
    },
    {
      "cell_type": "code",
      "metadata": {
        "id": "vf9ucZUB6d1g"
      },
      "source": [
        "f=1800 #MHz\r\n",
        "loc='urban'\r\n",
        "tower=80 #m\r\n",
        "user=1.5 #m\r\n",
        "dmin=200 #m\r\n",
        "dmax=700 #m\r\n",
        "N=200 #titik\r\n",
        "x=np.random.randint(dmin,dmax,N)"
      ],
      "execution_count": 241,
      "outputs": []
    },
    {
      "cell_type": "code",
      "metadata": {
        "colab": {
          "base_uri": "https://localhost:8080/"
        },
        "id": "LLSe0MdM6se3",
        "outputId": "06dde8aa-d5a6-4e43-aad8-c041faf8a7d1"
      },
      "source": [
        "print(x)"
      ],
      "execution_count": 242,
      "outputs": [
        {
          "output_type": "stream",
          "text": [
            "[483 297 224 509 454 568 294 348 277 376 684 438 490 251 379 592 545 274\n",
            " 265 257 356 482 690 296 587 201 461 548 254 594 255 539 456 351 406 231\n",
            " 635 532 246 330 563 257 478 651 300 274 439 323 378 547 274 395 473 649\n",
            " 688 652 324 495 288 487 239 422 361 538 505 640 297 470 387 281 389 610\n",
            " 231 645 335 512 587 237 218 276 267 338 466 435 657 478 405 663 490 438\n",
            " 332 498 420 319 397 315 393 484 507 507 620 210 506 240 447 209 271 531\n",
            " 350 235 637 600 263 330 345 545 207 531 350 552 623 220 332 502 308 305\n",
            " 285 500 399 572 315 557 462 293 544 590 653 399 467 529 547 660 480 527\n",
            " 582 457 441 469 303 223 464 580 236 577 470 519 595 675 514 350 640 673\n",
            " 415 527 201 222 439 682 336 297 206 563 527 399 306 474 349 688 424 615\n",
            " 576 657 636 533 492 353 410 673 344 396 449 533 483 600 321 245 246 379\n",
            " 587 609]\n"
          ],
          "name": "stdout"
        }
      ]
    },
    {
      "cell_type": "code",
      "metadata": {
        "id": "kyDE5r9E6tIo"
      },
      "source": [
        "LpUrban1=cos(f,loc,tower,user,x)"
      ],
      "execution_count": 243,
      "outputs": []
    },
    {
      "cell_type": "code",
      "metadata": {
        "colab": {
          "base_uri": "https://localhost:8080/"
        },
        "id": "GlhUvwIn6wlV",
        "outputId": "c3e72040-6640-4610-e30d-772bef532f82"
      },
      "source": [
        "print(LpUrban1)"
      ],
      "execution_count": 244,
      "outputs": [
        {
          "output_type": "stream",
          "text": [
            "[182.06051765 175.21059846 171.23706683 182.79907828 181.18830549\n",
            " 184.34396388 175.06758974 177.44284933 174.22858158 178.53293625\n",
            " 186.96170094 180.68291541 182.26320082 172.84017768 178.64488045\n",
            " 184.92692586 183.76170046 174.07519091 173.6047348  173.17293892\n",
            " 177.76300487 182.03132336 187.08472564 175.16309002 184.807449\n",
            " 169.71094774 181.40383683 183.83902675 173.00754089 184.9744343\n",
            " 173.06288963 183.60576266 181.25022312 177.56376198 179.61425242\n",
            " 171.67052372 185.91462979 183.42162621 172.55674281 176.69473171\n",
            " 184.21941631 173.17293892 181.91393737 186.26516079 175.35216988\n",
            " 174.07519091 180.71503911 176.39271811 178.60766448 183.81329845\n",
            " 174.07519091 179.22734017 181.76581574 186.22181849 187.04383667\n",
            " 186.28678204 176.43626138 182.40620954 174.77714157 182.17669346\n",
            " 172.15010153 180.15871585 177.95946883 183.57960436 182.68794368\n",
            " 186.02511066 175.21059846 181.67618932 178.93912065 174.43053827\n",
            " 179.01173029 185.34884139 171.67052372 186.13473173 176.90655882\n",
            " 182.88185758 184.807449   172.03172909 170.85461155 174.17763673\n",
            " 173.71064686 177.03214275 181.5557934  180.5861024  186.39439323\n",
            " 181.91393737 179.57951445 186.52245082 182.26320082 180.68291541\n",
            " 176.77984519 182.49132302 180.09179773 176.2171864  179.29848294\n",
            " 176.03943972 179.15583628 182.08965155 182.74362058 182.74362058\n",
            " 185.57789095 170.32796189 182.71580964 172.20891681 180.96942503\n",
            " 170.26072435 173.9201115  183.3951234  177.52357297 171.91235348\n",
            " 185.95892618 185.11600572 173.49802037 176.69473171 177.3208898\n",
            " 183.76170046 170.12527872 183.3951234  177.52357297 183.94147257\n",
            " 185.64588579 170.98325388 176.77984519 182.60401352 175.72288173\n",
            " 175.58500555 174.62964035 182.54778096 179.3692682  184.44281507\n",
            " 176.03943972 184.0684909  181.43435956 175.0195957  183.73583041\n",
            " 184.87925665 186.30837014 179.3692682  181.58598899 183.34196773\n",
            " 183.81329845 186.45856755 181.97275265 183.2886107  184.68695008\n",
            " 181.28108017 180.77906757 181.64618668 175.4923326  171.17404105\n",
            " 181.49520734 184.63846041 171.97216775 184.56541147 181.67618932\n",
            " 183.07313824 184.99812856 186.77512553 182.93677476 177.52357297\n",
            " 186.02511066 186.73332658 179.92309826 183.2886107  169.71094774\n",
            " 171.11073201 180.71503911 186.92045278 176.94854466 175.21059846\n",
            " 170.05706436 184.21941631 183.2886107  179.3692682  175.63111439\n",
            " 181.79556493 177.48326897 187.04383667 180.22531757 185.46383172\n",
            " 184.5409774  186.39439323 185.9367954  183.44807925 182.32057865\n",
            " 177.64379763 179.75235389 186.73332658 177.28000084 179.26295647\n",
            " 181.03231012 183.44807925 182.06051765 185.11600572 176.30522567\n",
            " 172.49936498 172.55674281 178.64488045 184.807449   185.32573025]\n"
          ],
          "name": "stdout"
        }
      ]
    },
    {
      "cell_type": "code",
      "metadata": {
        "id": "gOSDTaG560Kj"
      },
      "source": [
        "x_sort=x[np.argsort(x)]\r\n",
        "Urban_sort1=LpUrban1[np.argsort(x)]"
      ],
      "execution_count": 245,
      "outputs": []
    },
    {
      "cell_type": "code",
      "metadata": {
        "id": "GI8nF_yY67Yv"
      },
      "source": [
        "f=900 #MHz\r\n",
        "loc='urban'\r\n",
        "tower=80 #m\r\n",
        "user=1.5 #m\r\n",
        "dmin=200 #m\r\n",
        "dmax=700 #m\r\n",
        "N=200 #titik\r\n",
        "y=np.random.randint(dmin,dmax,N)"
      ],
      "execution_count": 246,
      "outputs": []
    },
    {
      "cell_type": "code",
      "metadata": {
        "colab": {
          "base_uri": "https://localhost:8080/"
        },
        "id": "pYJGOaL67VAn",
        "outputId": "830a9dfb-eeca-4557-92a5-0eb1a56b26b3"
      },
      "source": [
        "print(y)"
      ],
      "execution_count": 247,
      "outputs": [
        {
          "output_type": "stream",
          "text": [
            "[277 346 484 570 511 343 627 388 647 558 531 299 344 678 625 338 403 475\n",
            " 312 517 647 622 572 543 541 344 391 676 326 226 203 496 368 301 378 502\n",
            " 329 308 355 653 460 624 293 484 518 496 404 677 270 296 330 325 230 488\n",
            " 660 342 535 291 257 350 553 555 327 420 435 272 403 527 523 450 356 380\n",
            " 664 550 696 388 239 387 333 555 622 384 512 200 440 683 475 634 550 282\n",
            " 552 323 418 334 210 368 229 509 317 550 457 288 565 215 342 607 338 650\n",
            " 414 652 258 491 405 367 645 502 409 533 302 516 253 279 231 427 475 346\n",
            " 352 657 697 377 534 660 638 633 530 290 503 247 524 636 372 509 574 477\n",
            " 614 285 315 210 443 352 593 527 592 497 498 400 317 591 331 484 224 342\n",
            " 540 513 694 300 370 478 436 474 410 276 416 578 573 513 356 223 348 665\n",
            " 343 690 548 355 597 622 490 542 259 463 487 685 208 324 638 341 466 404\n",
            " 614 394]\n"
          ],
          "name": "stdout"
        }
      ]
    },
    {
      "cell_type": "code",
      "metadata": {
        "id": "2LG_KukK7Yg4"
      },
      "source": [
        "LpUrban2=cos(f,loc,tower,user,y)"
      ],
      "execution_count": 248,
      "outputs": []
    },
    {
      "cell_type": "code",
      "metadata": {
        "colab": {
          "base_uri": "https://localhost:8080/"
        },
        "id": "p7su1nO27cYv",
        "outputId": "6bbc7799-3847-406a-9153-045606ab16fb"
      },
      "source": [
        "print(LpUrban2)"
      ],
      "execution_count": 249,
      "outputs": [
        {
          "output_type": "stream",
          "text": [
            "[164.43492041 167.56799924 172.29599038 174.59981501 173.06065732\n",
            " 167.44533166 175.94237684 169.18181108 176.38468123 174.30009652\n",
            " 173.60146223 165.51147614 167.48633966 177.04393115 175.89737285\n",
            " 167.23848158 169.71611929 172.03159025 166.11098098 173.22508998\n",
            " 176.38468123 175.82959612 174.6491539  173.91625158 173.86427279\n",
            " 167.48633966 169.29030638 177.00231742 166.72928502 161.56861748\n",
            " 160.0567554  172.6409767  168.43633356 165.60538474 168.8140033\n",
            " 172.81035234 166.85832016 165.92922056 167.92971993 176.51470897\n",
            " 171.57958663 175.87481682 165.22593453 172.29599038 173.25230977\n",
            " 172.6409767  169.75102943 177.02313965 164.07437545 165.36942885\n",
            " 166.90107053 166.68600929 161.81575079 172.41192714 176.66490637\n",
            " 167.40420393 173.70717558 165.12945307 163.37927775 167.72991179\n",
            " 174.17330685 174.22415975 166.7724282  170.29813655 170.79244122\n",
            " 164.17833339 169.71611929 173.49494953 173.38762529 171.26998653\n",
            " 167.96934369 168.88833718 176.75001985 174.09668161 177.41302399\n",
            " 169.18181108 162.35644036 169.14545948 167.02854867 174.22415975\n",
            " 175.82959612 169.0358384  173.08819641 159.84703087 170.95342854\n",
            " 177.14743079 172.03159025 176.09876808 174.09668161 164.68691707\n",
            " 174.14781139 166.59905694 170.23089901 167.07078629 160.53430071\n",
            " 168.43633356 161.75437275 173.00541711 166.33493224 174.09668161\n",
            " 171.48741899 164.98348039 174.47570639 160.86575689 167.40420393\n",
            " 175.48573272 167.23848158 176.44984513 170.09545338 176.49312086\n",
            " 163.43398165 172.49825778 169.78585328 168.39800364 176.34107056\n",
            " 172.81035234 169.92429407 173.65441807 165.65210531 173.19781749\n",
            " 163.15831263 164.53626068 161.87686255 170.53097223 172.03159025\n",
            " 167.56799924 167.81017547 176.60073206 177.43324831 168.77668874\n",
            " 173.68082152 176.66490637 176.18736106 176.0765325  173.57490946\n",
            " 165.08096339 172.83838466 162.8202267  173.41453311 176.14313422\n",
            " 168.58861869 173.00541711 174.69832057 172.09077621 175.64724745\n",
            " 164.83597917 166.24577854 160.53430071 171.04914514 167.81017547\n",
            " 175.15703893 173.49494953 175.13326469 172.66934778 172.69766184\n",
            " 169.61086671 166.33493224 175.10945025 166.94369156 172.29599038\n",
            " 161.44340565 167.40420393 173.83821129 173.11568176 177.37248802\n",
            " 165.5585087  168.51268192 172.1202762  170.82478621 172.00190375\n",
            " 169.95869272 164.38397555 170.16333899 174.79614206 174.67375868\n",
            " 173.11568176 167.96934369 161.38037988 167.64918815 176.7712181\n",
            " 167.44533166 177.29106446 174.04536557 167.92971993 175.25173668\n",
            " 175.82959612 172.46953965 173.89028616 163.48847393 171.67115513\n",
            " 172.38303229 177.18861864 160.39950315 166.64260021 176.18736106\n",
            " 167.36295577 171.76213222 169.75102943 175.64724745 169.39797242]\n"
          ],
          "name": "stdout"
        }
      ]
    },
    {
      "cell_type": "code",
      "metadata": {
        "id": "TbRMIT6W7ePy"
      },
      "source": [
        "y_sort=y[np.argsort(y)]\r\n",
        "Urban_sort2=LpUrban2[np.argsort(y)]"
      ],
      "execution_count": 250,
      "outputs": []
    },
    {
      "cell_type": "code",
      "metadata": {
        "id": "JxE42yPk7lEg"
      },
      "source": [
        "f=700 #MHz\r\n",
        "loc='urban'\r\n",
        "tower=80 #m\r\n",
        "user=1.5 #m\r\n",
        "dmin=200 #m\r\n",
        "dmax=700 #m\r\n",
        "N=200 #titik\r\n",
        "z=np.random.randint(dmin,dmax,N)"
      ],
      "execution_count": 251,
      "outputs": []
    },
    {
      "cell_type": "code",
      "metadata": {
        "colab": {
          "base_uri": "https://localhost:8080/"
        },
        "id": "S1fqsZD37tSf",
        "outputId": "4b60fd44-5f3c-45fe-a850-7fef919d196e"
      },
      "source": [
        "print(z)"
      ],
      "execution_count": 252,
      "outputs": [
        {
          "output_type": "stream",
          "text": [
            "[573 689 497 639 253 491 480 247 645 374 509 263 276 448 693 608 573 642\n",
            " 455 253 451 531 643 364 264 292 343 652 625 484 264 667 351 244 345 457\n",
            " 277 304 676 638 482 441 604 612 308 540 356 256 497 450 640 246 348 417\n",
            " 287 681 356 242 434 305 436 432 604 564 407 385 261 556 693 216 308 258\n",
            " 561 380 691 291 407 504 642 244 450 237 630 611 452 554 350 554 631 336\n",
            " 394 274 502 253 212 654 464 402 366 290 205 596 266 450 433 432 530 418\n",
            " 488 384 656 212 218 340 299 300 457 643 281 463 661 671 269 214 319 623\n",
            " 396 259 352 615 443 306 673 659 490 460 573 350 538 273 244 559 546 471\n",
            " 603 562 503 587 270 570 425 491 261 399 676 527 485 543 295 268 625 449\n",
            " 609 332 578 600 370 289 269 601 655 608 212 523 374 482 547 460 653 407\n",
            " 515 457 218 556 427 543 232 359 636 257 514 330 270 529 628 268 279 524\n",
            " 310 318]\n"
          ],
          "name": "stdout"
        }
      ]
    },
    {
      "cell_type": "code",
      "metadata": {
        "id": "b03WDsm070Q_"
      },
      "source": [
        "LpUrban3=cos(f,loc,tower,user,z)"
      ],
      "execution_count": 253,
      "outputs": []
    },
    {
      "cell_type": "code",
      "metadata": {
        "colab": {
          "base_uri": "https://localhost:8080/"
        },
        "id": "Unl7pwOF73_P",
        "outputId": "97b5ef0f-303d-435b-b2d9-4342b434bafb"
      },
      "source": [
        "print(LpUrban3)"
      ],
      "execution_count": 254,
      "outputs": [
        {
          "output_type": "stream",
          "text": [
            "[171.82836237 174.4252385  169.82395147 173.3640262  160.31291631\n",
            " 169.65286146 169.33369515 159.97483038 173.49567424 165.81875198\n",
            " 170.16002079 160.85896287 161.53857923 168.36184517 174.5067799\n",
            " 172.66352363 171.82836237 173.43000402 168.58024083 160.31291631\n",
            " 168.45585823 170.75606591 173.45192813 165.43698776 160.91242115\n",
            " 162.33238008 164.59993534 173.64772454 173.05197653 169.45059406\n",
            " 160.91242115 173.96812283 164.92470448 159.80269499 164.6818323\n",
            " 168.64202267 161.58952409 162.89968779 174.1569211  173.34196474\n",
            " 169.39226587 168.14001008 172.57054483 172.75589273 163.08382424\n",
            " 170.99281497 165.12394737 160.47896425 169.82395147 168.42459021\n",
            " 173.38605316 159.91768532 164.80379183 167.35176319 162.08908841\n",
            " 174.26072582 165.12394737 159.68675822 167.91462547 162.94594806\n",
            " 167.97938989 167.8495619  172.57054483 171.60535659 167.00984743\n",
            " 166.22707731 160.75143382 171.4041212  174.5067799  158.08572606\n",
            " 163.08382424 160.58858533 171.53022981 166.04294086 174.4660682\n",
            " 162.28405675 167.00984743 170.02096499 173.43000402 159.80269499\n",
            " 168.42459021 159.3926716  173.16421806 172.73285718 168.487057\n",
            " 171.35335993 164.88451548 171.35335993 173.18655944 164.30948716\n",
            " 166.5525761  161.43613342 169.96495602 160.31291631 157.82242424\n",
            " 173.69086772 168.85614984 166.83572609 165.51417282 162.23556707\n",
            " 157.34946056 172.38272555 161.01873288 168.42459021 167.88213125\n",
            " 167.8495619  170.72951314 167.3855027  169.56653082 166.19044208\n",
            " 173.73387917 157.82242424 158.21555405 164.47619015 162.66607983\n",
            " 162.71311238 168.64202267 173.45192813 161.79148078 168.82575881\n",
            " 173.84083669 174.05234573 161.17671103 157.95469035 163.57812891\n",
            " 173.0068283  166.62389897 160.64307761 164.96477916 172.82477423\n",
            " 168.20374882 162.9920569  174.09426909 173.79815109 169.62414333\n",
            " 168.73419031 171.82836237 164.88451548 170.94054687 161.38462975\n",
            " 159.80269499 171.47992176 171.14846559 169.06707071 172.54720392\n",
            " 171.55531661 169.99298835 172.16839151 161.22897913 171.75441869\n",
            " 167.61944322 169.65286146 160.75143382 166.73021071 174.1569211\n",
            " 170.64955321 169.47966783 171.07085527 162.47636332 161.12424826\n",
            " 173.05197653 168.39325263 172.68667275 164.14078769 171.95074574\n",
            " 172.47694822 165.6672856  162.1869099  161.17671103 172.50040574\n",
            " 173.71238986 172.66352363 157.82242424 170.54222897 165.81875198\n",
            " 169.39226587 171.17424096 168.73419031 173.66931265 167.00984743\n",
            " 170.32509577 168.64202267 158.21555405 171.4041212  167.68557591\n",
            " 171.07085527 159.092314   165.24215426 173.2977379  160.53388143\n",
            " 170.29771727 164.05567422 161.22897913 170.70291023 173.11942872\n",
            " 161.12424826 161.69086436 170.56913679 163.17499762 163.53390206]\n"
          ],
          "name": "stdout"
        }
      ]
    },
    {
      "cell_type": "code",
      "metadata": {
        "id": "_nLiCVAH75-v"
      },
      "source": [
        "z_sort=z[np.argsort(z)]\r\n",
        "Urban_sort3=LpUrban3[np.argsort(z)]"
      ],
      "execution_count": 255,
      "outputs": []
    },
    {
      "cell_type": "code",
      "metadata": {
        "colab": {
          "base_uri": "https://localhost:8080/",
          "height": 295
        },
        "id": "3__KJQxx7-f1",
        "outputId": "1585a400-d90a-4dea-c9a9-8e1144cc7554"
      },
      "source": [
        "plt.figure()\r\n",
        "plt.plot(x_sort,Urban_sort1,'g', label='1800 Mhz')\r\n",
        "plt.plot(y_sort,Urban_sort2,'y', label='900 Mhz')\r\n",
        "plt.plot(z_sort,Urban_sort3,'c', label='700 Mhz')\r\n",
        "plt.legend()\r\n",
        "plt.title('Model Urban (GAMBAR CONTOH)')\r\n",
        "plt.xlabel('Jarak (m)')\r\n",
        "plt.ylabel('Path Loss (dB)')\r\n",
        "plt.show()"
      ],
      "execution_count": 259,
      "outputs": [
        {
          "output_type": "display_data",
          "data": {
            "image/png": "[encoded data removed]",
            "text/plain": [
              "<Figure size 432x288 with 1 Axes>"
            ]
          },
          "metadata": {
            "tags": [],
            "needs_background": "light"
          }
        }
      ]
    },
    {
      "cell_type": "code",
      "metadata": {
        "id": "y6swPuO19G34"
      },
      "source": [
        ""
      ],
      "execution_count": null,
      "outputs": []
    }
  ]
}